{
 "cells": [
  {
   "cell_type": "code",
   "execution_count": 2,
   "metadata": {},
   "outputs": [
    {
     "name": "stdout",
     "output_type": "stream",
     "text": [
      "/Users/akito/Dev/Python_env/oit_develop_event_tools\r\n"
     ]
    }
   ],
   "source": [
    "!pwd"
   ]
  },
  {
   "cell_type": "code",
   "execution_count": 3,
   "metadata": {},
   "outputs": [
    {
     "name": "stderr",
     "output_type": "stream",
     "text": [
      "/usr/local/var/pyenv/versions/sandbox369/lib/python3.6/site-packages/pandas/compat/__init__.py:117: UserWarning: Could not import the lzma module. Your installed Python is incomplete. Attempting to use lzma compression will result in a RuntimeError.\n",
      "  warnings.warn(msg)\n"
     ]
    }
   ],
   "source": [
    "import pandas as pd"
   ]
  },
  {
   "cell_type": "code",
   "execution_count": 4,
   "metadata": {},
   "outputs": [],
   "source": [
    "test =pd.read_csv('syllabus_database.csv')"
   ]
  },
  {
   "cell_type": "code",
   "execution_count": 5,
   "metadata": {},
   "outputs": [
    {
     "data": {
      "text/html": [
       "<div>\n",
       "<style scoped>\n",
       "    .dataframe tbody tr th:only-of-type {\n",
       "        vertical-align: middle;\n",
       "    }\n",
       "\n",
       "    .dataframe tbody tr th {\n",
       "        vertical-align: top;\n",
       "    }\n",
       "\n",
       "    .dataframe thead th {\n",
       "        text-align: right;\n",
       "    }\n",
       "</style>\n",
       "<table border=\"1\" class=\"dataframe\">\n",
       "  <thead>\n",
       "    <tr style=\"text-align: right;\">\n",
       "      <th></th>\n",
       "      <th>コンピュータ入門</th>\n",
       "      <th>１年次</th>\n",
       "      <th>前期</th>\n",
       "      <th>牧野博之(マキノヒロシ)</th>\n",
       "      <th>1AAB01A0</th>\n",
       "    </tr>\n",
       "  </thead>\n",
       "  <tbody>\n",
       "    <tr>\n",
       "      <th>0</th>\n",
       "      <td>テクニカルライティング</td>\n",
       "      <td>１年次</td>\n",
       "      <td>後期</td>\n",
       "      <td>光田憲朗(ミツダケンロウ)</td>\n",
       "      <td>1AAB05A0</td>\n",
       "    </tr>\n",
       "    <tr>\n",
       "      <th>1</th>\n",
       "      <td>テクニカルライティング</td>\n",
       "      <td>１年次</td>\n",
       "      <td>後期</td>\n",
       "      <td>荒木英夫(アラキヒデオ)</td>\n",
       "      <td>1AAB05B0</td>\n",
       "    </tr>\n",
       "    <tr>\n",
       "      <th>2</th>\n",
       "      <td>ディジタル回路</td>\n",
       "      <td>１年次</td>\n",
       "      <td>後期</td>\n",
       "      <td>牧野博之(マキノヒロシ)</td>\n",
       "      <td>1AAB07A0</td>\n",
       "    </tr>\n",
       "    <tr>\n",
       "      <th>3</th>\n",
       "      <td>アセンブリ言語</td>\n",
       "      <td>２年次</td>\n",
       "      <td>後期</td>\n",
       "      <td>布村泰浩(ヌノムラヤスヒロ)</td>\n",
       "      <td>1AAB18A0</td>\n",
       "    </tr>\n",
       "    <tr>\n",
       "      <th>4</th>\n",
       "      <td>アセンブリ言語</td>\n",
       "      <td>２年次</td>\n",
       "      <td>後期</td>\n",
       "      <td>平岡一剛(ヒラオカカズタケ)</td>\n",
       "      <td>1AAB18B0</td>\n",
       "    </tr>\n",
       "  </tbody>\n",
       "</table>\n",
       "</div>"
      ],
      "text/plain": [
       "      コンピュータ入門  １年次  前期    牧野博之(マキノヒロシ)  1AAB01A0\n",
       "0  テクニカルライティング  １年次  後期   光田憲朗(ミツダケンロウ)  1AAB05A0\n",
       "1  テクニカルライティング  １年次  後期    荒木英夫(アラキヒデオ)  1AAB05B0\n",
       "2      ディジタル回路  １年次  後期    牧野博之(マキノヒロシ)  1AAB07A0\n",
       "3      アセンブリ言語  ２年次  後期  布村泰浩(ヌノムラヤスヒロ)  1AAB18A0\n",
       "4      アセンブリ言語  ２年次  後期  平岡一剛(ヒラオカカズタケ)  1AAB18B0"
      ]
     },
     "execution_count": 5,
     "metadata": {},
     "output_type": "execute_result"
    }
   ],
   "source": [
    "test.head()"
   ]
  },
  {
   "cell_type": "code",
   "execution_count": 7,
   "metadata": {},
   "outputs": [],
   "source": [
    "subjects = test['コンピュータ入門'].unique()"
   ]
  },
  {
   "cell_type": "code",
   "execution_count": 8,
   "metadata": {},
   "outputs": [
    {
     "data": {
      "text/plain": [
       "array(['テクニカルライティング', 'ディジタル回路', 'アセンブリ言語', '組み込みシステム基礎', '情報技術者論',\n",
       "       'Ｃ演習Ⅰ', 'コンピュータ科学基礎演習', 'コンピュータ科学専門演習', '情報ゼミナール', '計算機アーキテクチャ',\n",
       "       'オペレーティングシステム', '情報科学演習Ⅰ', '情報科学演習Ⅱ', '情報科学演習Ⅲ', '線形数学Ⅰ', '微積分学Ⅰ',\n",
       "       '情報数学', 'グラフ理論', '情報通信ネットワーク', 'オートマトンと形式言語', 'データ構造とアルゴリズムⅠ',\n",
       "       'ソフトウェア工学Ⅰ', 'プロセッサ設計', '情報セキュリティ', '集積回路工学', 'プログラミング言語論',\n",
       "       'ソフトウェア工学Ⅱ', 'ソフトウェア工学演習', 'データベースシステム', '情報セキュリティの基礎', 'Ｃ演習Ⅱ',\n",
       "       'Java演習', '微積分学Ⅱ', '周波数解析', '微分方程式', '数値計算演習', 'プログラミング基礎',\n",
       "       '情報処理基礎', 'プログラミング入門', 'コンピュータリテラシー', 'ディジタル回路応用', '集積回路設計',\n",
       "       'データ構造とアルゴリズムⅡ', 'システムプログラム', 'Unixプログラミング', 'コンピュータグラフィックスⅠ',\n",
       "       '画像処理', '信号処理', 'キャリアデザインⅠ', 'ロボット制御', 'ロボット工学基礎', 'ロボット工学演習',\n",
       "       'インターフェース・センサ回路', '知能制御工学基礎', '知能情報処理', '知能制御工学', '知能制御工学演習',\n",
       "       'コンピュータ入門', '情報システム基礎演習', '情報システム専門演習', '確率・統計', 'ネットワーク設計',\n",
       "       '情報システムの計画策定', 'システム工学', '情報システム応用演習', '線形数学Ⅱ', 'Ｕｎｉｘシステム入門',\n",
       "       '情報検索', '人工知能', '構造化文書処理', 'ヒューマンインタフェース', '通信理論',\n",
       "       'アドバンスト\\u3000ネットワーキング', 'オペレーションズ・リサーチ', '情報技術応用システム', '経営システム論',\n",
       "       '高信頼システム', 'モデリングとシミュレーション', 'Webサービス論', '経営システム論Ⅰ', '経営システム論Ⅱ',\n",
       "       '情報システム学特別講義', '情報メディア入門', '情報メディア基礎演習', '情報メディア専門演習', '情報メディア演習Ⅰ',\n",
       "       '情報メディア演習Ⅱ', '情報メディア演習Ⅲ', '画像情報処理Ⅰ', '音響処理', '数理計画法', 'メディアデータ論',\n",
       "       'コンピュータグラフィックスⅡ', '人間情報学', '画像情報処理Ⅱ', 'ＣＡＤ', '感性情報処理', '映像技術演習',\n",
       "       '色彩学', 'Webデザイン', 'キャリアデザインⅡ', '音声情報処理', 'メディアインタフェース',\n",
       "       'アニメーション演習', '情報ネットワーク入門【前期前半】', '情報ネットワーク専門演習', '情報ネットワーク基礎演習',\n",
       "       'ネットワークアプリケーション', 'Ｕｎｉｘ入門【前期前半】', 'ディジタル信号処理',\n",
       "       'プログラミングリテラシー（入門）【前期後半】', 'プログラミングリテラシー（読解）【後期後半】', 'Ｕｎｉｘ入門',\n",
       "       'Webサイト制作', 'モバイルコミュニケーション', 'サーバ構築管理', '光情報通信システム', 'メディア通信概論',\n",
       "       'ネットワーク・セキュリティ演習', 'ネットワークデザイン入門【前期前半】', 'ネットワークデザイン基礎演習', '哲学基礎',\n",
       "       '情報社会論', '応用倫理学', '人類の歴史', '文学基礎', '情報法学', '経済学基礎', '社会学基礎',\n",
       "       '倫理学基礎', '日本の歴史', '観る文学', '言語学基礎', '日本国憲法', '法学基礎', '現代経済論',\n",
       "       '心理学基礎', '英語表現（ｂａｓｉｃ１）ａ', '英語表現（ｂａｓｉｃ１）ｂ', '英語の語法', '口語英語Ⅰａ',\n",
       "       '口語英語Ⅰｂ', '英語による情報技術Ⅱ', '英語表現（ｂａｓｉｃ２）ａ', '英語表現（ｂａｓｉｃ２）ｂ', '口語英語Ⅱａ',\n",
       "       '口語英語Ⅱｂ', '英語による情報技術Ⅰａ', '英語による情報技術Ⅰｂ', '日本語Ⅰ', '日本語Ⅱ', '英語演習',\n",
       "       '基礎スポーツ科学ａ', '基礎スポーツ科学ｂ', 'スポーツ科学実習', '物理学基礎', '現代物理学入門', '地球環境',\n",
       "       '情報生命科学', '物理現象の数理', '力学', '電磁気学', '化学基礎', '環境情報科学', '地球科学基礎',\n",
       "       '生命科学基礎', '視る自然科学', '基礎ゼミナール', 'キャリアステップ（IC科）', 'キャリアステップ（IS科）',\n",
       "       'キャリアステップ（IM科）', 'キャリアステップ（IN科）', 'キャリアデザインⅠ（IC科）',\n",
       "       'キャリアデザインⅠ（IS科）', 'キャリアデザインⅠ（IM科）', 'キャリアデザインⅠ（IN科）',\n",
       "       'キャリアデザインⅡ（IC科）', 'キャリアデザインⅡ（IS科）', 'キャリアデザインⅡ（IM科）', '教職入門',\n",
       "       '教育原論', '教育心理学', '教育行政', '数学科教育法ａ', '数学科教育法ｂ', '数学科教育法ｃ',\n",
       "       '情報科教育法ａ', '情報科教育法ｂ', '道徳教育の研究', '教育課程論', '教育方法論', '生徒指導論',\n",
       "       '中学校教育実習', '高等学校教育実習', '教職実践演習', '福祉教育概論', '道徳教育', '教育相談',\n",
       "       '特別活動・総合的な学習の時間の指導法', '特別支援教育'], dtype=object)"
      ]
     },
     "execution_count": 8,
     "metadata": {},
     "output_type": "execute_result"
    }
   ],
   "source": [
    "subjects"
   ]
  },
  {
   "cell_type": "code",
   "execution_count": null,
   "metadata": {},
   "outputs": [],
   "source": []
  }
 ],
 "metadata": {
  "kernelspec": {
   "display_name": "Python 3.6.9 64-bit ('sandbox369': venv)",
   "language": "python",
   "name": "python36964bitsandbox369venvab87a4fc22844af5a56e92fcac51974b"
  },
  "language_info": {
   "codemirror_mode": {
    "name": "ipython",
    "version": 3
   },
   "file_extension": ".py",
   "mimetype": "text/x-python",
   "name": "python",
   "nbconvert_exporter": "python",
   "pygments_lexer": "ipython3",
   "version": "3.6.9"
  }
 },
 "nbformat": 4,
 "nbformat_minor": 4
}
