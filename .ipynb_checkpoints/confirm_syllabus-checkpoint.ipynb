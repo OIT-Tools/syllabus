{
 "cells": [
  {
   "cell_type": "code",
   "execution_count": 1,
   "metadata": {},
   "outputs": [
    {
     "name": "stdout",
     "output_type": "stream",
     "text": [
      "/Users/akito/Dev/Python_env/oit_develop_event_tools\r\n"
     ]
    }
   ],
   "source": [
    "!pwd"
   ]
  },
  {
   "cell_type": "code",
   "execution_count": 2,
   "metadata": {},
   "outputs": [
    {
     "name": "stderr",
     "output_type": "stream",
     "text": [
      "/usr/local/var/pyenv/versions/sandbox369/lib/python3.6/site-packages/pandas/compat/__init__.py:117: UserWarning: Could not import the lzma module. Your installed Python is incomplete. Attempting to use lzma compression will result in a RuntimeError.\n",
      "  warnings.warn(msg)\n"
     ]
    }
   ],
   "source": [
    "import pandas as pd"
   ]
  },
  {
   "cell_type": "code",
   "execution_count": 3,
   "metadata": {},
   "outputs": [],
   "source": [
    "test =pd.read_csv('syllabus_database.csv')"
   ]
  },
  {
   "cell_type": "code",
   "execution_count": 4,
   "metadata": {},
   "outputs": [
    {
     "data": {
      "text/html": [
       "<div>\n",
       "<style scoped>\n",
       "    .dataframe tbody tr th:only-of-type {\n",
       "        vertical-align: middle;\n",
       "    }\n",
       "\n",
       "    .dataframe tbody tr th {\n",
       "        vertical-align: top;\n",
       "    }\n",
       "\n",
       "    .dataframe thead th {\n",
       "        text-align: right;\n",
       "    }\n",
       "</style>\n",
       "<table border=\"1\" class=\"dataframe\">\n",
       "  <thead>\n",
       "    <tr style=\"text-align: right;\">\n",
       "      <th></th>\n",
       "      <th>コンピュータ入門</th>\n",
       "      <th>１年次</th>\n",
       "      <th>前期</th>\n",
       "      <th>牧野博之(マキノヒロシ)</th>\n",
       "      <th>1AAB01A0</th>\n",
       "    </tr>\n",
       "  </thead>\n",
       "  <tbody>\n",
       "    <tr>\n",
       "      <th>0</th>\n",
       "      <td>テクニカルライティング</td>\n",
       "      <td>１年次</td>\n",
       "      <td>後期</td>\n",
       "      <td>光田憲朗(ミツダケンロウ)</td>\n",
       "      <td>1AAB05A0</td>\n",
       "    </tr>\n",
       "    <tr>\n",
       "      <th>1</th>\n",
       "      <td>テクニカルライティング</td>\n",
       "      <td>１年次</td>\n",
       "      <td>後期</td>\n",
       "      <td>荒木英夫(アラキヒデオ)</td>\n",
       "      <td>1AAB05B0</td>\n",
       "    </tr>\n",
       "    <tr>\n",
       "      <th>2</th>\n",
       "      <td>ディジタル回路</td>\n",
       "      <td>１年次</td>\n",
       "      <td>後期</td>\n",
       "      <td>牧野博之(マキノヒロシ)</td>\n",
       "      <td>1AAB07A0</td>\n",
       "    </tr>\n",
       "    <tr>\n",
       "      <th>3</th>\n",
       "      <td>アセンブリ言語</td>\n",
       "      <td>２年次</td>\n",
       "      <td>後期</td>\n",
       "      <td>布村泰浩(ヌノムラヤスヒロ)</td>\n",
       "      <td>1AAB18A0</td>\n",
       "    </tr>\n",
       "    <tr>\n",
       "      <th>4</th>\n",
       "      <td>アセンブリ言語</td>\n",
       "      <td>２年次</td>\n",
       "      <td>後期</td>\n",
       "      <td>平岡一剛(ヒラオカカズタケ)</td>\n",
       "      <td>1AAB18B0</td>\n",
       "    </tr>\n",
       "  </tbody>\n",
       "</table>\n",
       "</div>"
      ],
      "text/plain": [
       "      コンピュータ入門  １年次  前期    牧野博之(マキノヒロシ)  1AAB01A0\n",
       "0  テクニカルライティング  １年次  後期   光田憲朗(ミツダケンロウ)  1AAB05A0\n",
       "1  テクニカルライティング  １年次  後期    荒木英夫(アラキヒデオ)  1AAB05B0\n",
       "2      ディジタル回路  １年次  後期    牧野博之(マキノヒロシ)  1AAB07A0\n",
       "3      アセンブリ言語  ２年次  後期  布村泰浩(ヌノムラヤスヒロ)  1AAB18A0\n",
       "4      アセンブリ言語  ２年次  後期  平岡一剛(ヒラオカカズタケ)  1AAB18B0"
      ]
     },
     "execution_count": 4,
     "metadata": {},
     "output_type": "execute_result"
    }
   ],
   "source": [
    "test.head()"
   ]
  },
  {
   "cell_type": "code",
   "execution_count": null,
   "metadata": {},
   "outputs": [],
   "source": []
  }
 ],
 "metadata": {
  "kernelspec": {
   "display_name": "Python 3.6.9 64-bit ('sandbox369': venv)",
   "language": "python",
   "name": "python36964bitsandbox369venvab87a4fc22844af5a56e92fcac51974b"
  },
  "language_info": {
   "codemirror_mode": {
    "name": "ipython",
    "version": 3
   },
   "file_extension": ".py",
   "mimetype": "text/x-python",
   "name": "python",
   "nbconvert_exporter": "python",
   "pygments_lexer": "ipython3",
   "version": "3.6.9"
  }
 },
 "nbformat": 4,
 "nbformat_minor": 4
}
